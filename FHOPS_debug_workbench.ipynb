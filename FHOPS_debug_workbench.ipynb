{
 "cells": [
  {
   "cell_type": "markdown",
   "metadata": {},
   "source": [
    "# FHOPS Debug Workbench\n",
    "Interactive notebook to load a scenario, build the MIP model, run the solver, evaluate KPIs, and debug issues.\n",
    "\n",
    "**Tips**\n",
    "- Run this from the FHOPS repo root (same folder as `pyproject.toml`).\n",
    "- In CodeServer/Jupyter with the debugger enabled, uncaught exceptions will pause execution.\n"
   ]
  },
  {
   "cell_type": "code",
   "execution_count": 1,
   "metadata": {},
   "outputs": [
    {
     "name": "stdout",
     "output_type": "stream",
     "text": [
      "Python: 3.12.3 (main, Jun 18 2025, 17:59:45) [GCC 13.3.0]\n",
      "Platform: Linux-6.14.0-27-generic-x86_64-with-glibc2.39\n",
      "FHOPS version: 0.1.0\n",
      "FHOPS package path: /home/gep/projects/fhops/src/fhops/__init__.py\n"
     ]
    }
   ],
   "source": [
    "# --- Environment sanity check ---\n",
    "import sys, os, platform, importlib, pathlib\n",
    "from pprint import pprint\n",
    "\n",
    "PROJECT_ROOT = pathlib.Path.cwd()\n",
    "assert (PROJECT_ROOT / \"src\" / \"fhops\").exists(), \"Run this notebook from FHOPS repo root.\"\n",
    "\n",
    "if str(PROJECT_ROOT / \"src\") not in sys.path:\n",
    "    sys.path.insert(0, str(PROJECT_ROOT / \"src\"))\n",
    "import fhops\n",
    "print(\"Python:\", sys.version)\n",
    "print(\"Platform:\", platform.platform())\n",
    "print(\"FHOPS version:\", fhops.__version__)\n",
    "print(\"FHOPS package path:\", fhops.__file__)\n"
   ]
  },
  {
   "cell_type": "markdown",
   "metadata": {},
   "source": [
    "## 1) Load scenario & inspect parsed data"
   ]
  },
  {
   "cell_type": "code",
   "execution_count": 2,
   "metadata": {},
   "outputs": [
    {
     "name": "stdout",
     "output_type": "stream",
     "text": [
      "Scenario: FHOPS MiniToy\n",
      "Days: 14 Blocks: 3 Machines: 2 Landings: 2\n",
      "First block: {'id': 'B1', 'landing_id': 'L1', 'work_required': 20.0, 'earliest_start': 1, 'latest_finish': 14}\n",
      "First machine: {'id': 'H1', 'crew': 'C1', 'daily_hours': 10.0, 'operating_cost': 1000.0}\n"
     ]
    }
   ],
   "source": [
    "from fhops.data.loaders import load_scenario\n",
    "from fhops.core.types import Problem\n",
    "\n",
    "SCENARIO_PATH = (pathlib.Path.cwd() / \"examples\" / \"minitoy\" / \"scenario.yaml\")\n",
    "sc = load_scenario(SCENARIO_PATH)\n",
    "pb = Problem.from_scenario(sc)\n",
    "\n",
    "print(\"Scenario:\", sc.name)\n",
    "print(\"Days:\", len(pb.days), \"Blocks:\", len(sc.blocks), \"Machines:\", len(sc.machines), \"Landings:\", len(sc.landings))\n",
    "print(\"First block:\", sc.blocks[0].model_dump())\n",
    "print(\"First machine:\", sc.machines[0].model_dump())\n"
   ]
  },
  {
   "cell_type": "markdown",
   "metadata": {},
   "source": [
    "## 2) Inspect model builder source"
   ]
  },
  {
   "cell_type": "code",
   "execution_count": 3,
   "metadata": {},
   "outputs": [
    {
     "name": "stdout",
     "output_type": "stream",
     "text": [
      "pyomo_builder file: /home/gep/projects/fhops/src/fhops/model/pyomo_builder.py\n",
      "def build_model(pb: Problem) -> pyo.ConcreteModel:\n",
      "    sc = pb.scenario\n",
      "\n",
      "    M = [m.id for m in sc.machines]\n",
      "    B = [b.id for b in sc.blocks]\n",
      "    D = list(pb.days)\n",
      "\n",
      "    rate = {(r.machine_id, r.block_id): r.rate for r in sc.production_rates}\n",
      "    work_required = {b.id: b.work_required for b in sc.blocks}\n",
      "    landing_of = {b.id: b.landing_id for b in sc.blocks}\n",
      "    landing_capacity = {l.id: l.daily_capacity for l in sc.landings}\n",
      "\n",
      "    # Availability: 1 if machine available on day\n",
      "    avail = {(c.machine_id, c.day): int(c.available) for c in sc.calendar}\n",
      "\n",
      "    # Windows: blocks may only be worked between [es, lf]\n",
      "    #windows = {b_id: sc.window_for(b_id) for b_id in sc.block_ids()}\n",
      "    windows = {b_id: sc.window_for(b_id) for b_id in sc.block_ids()}\n",
      "\n",
      "    m = pyo.ConcreteModel()\n",
      "    m.M = pyo.Set(initialize=M)\n",
      "    m.B = pyo.Set(initialize=B)\n",
      "    m.D = pyo.Set(initialize=D)\n",
      "\n",
      "    def within_window(b, d):\n",
      "        es, lf = windows[b]\n",
      "        return 1 if (d >= es and d <= lf) else 0\n",
      "\n",
      "    # Decision variables\n",
      "    m.x = pyo.Var(m.M, m.B, m.D, domain=pyo.Binary)  # assign machine to block on day\n",
      "    m.prod = pyo.Var(m.M, m.B, m.D, domain=pyo.NonNegativeReals)  # work produced that day\n",
      "\n",
      "    # Objective: maximize total production (bounded by work_required)\n",
      "    m.obj = pyo.Objective(\n",
      "        expr=sum(m.prod[mach, blk, day] for mach in m.M for blk in m.B for day in m.D),\n",
      "        sense=pyo.maximize,\n",
      "    )\n",
      "\n",
      "    # Each machine at most one block per day, and respect availability\n",
      "    def mach_one_block_rule(mdl, mach, day):\n",
      "        a = avail.get((mach, int(day)), 1)\n",
      "        return sum(mdl.x[mach, blk, day] for blk in mdl.B) <= a\n",
      "    m.mach_one_block = pyo.Constraint(m.M, m.D, rule=mach_one_block_rule)\n",
      "\n",
      "    # Production limited by rate if assigned; zero otherwise or out of window\n",
      "    def prod_cap_rule(mdl, mach, blk, day):\n",
      "        r = rate.get((mach, blk), 0.0)\n",
      "        w = within_window(blk, int(day))\n",
      "        return mdl.prod[mach, blk, day] <= r * mdl.x[mach, blk, day] * w\n",
      "    m.prod_cap = pyo.Constraint(m.M, m.B, m.D, rule=prod_cap_rule)\n",
      "\n",
      "    # Block completion: cumulative production cannot exceed work_required\n",
      "    def block_cum_rule(mdl, blk):\n",
      "        return sum(mdl.prod[mach, blk, day] for mach in m.M for day in m.D) <= work_required[blk]\n",
      "    m.block_cum = pyo.Constraint(m.B, rule=block_cum_rule)\n",
      "\n",
      "    # Landing capacity per day: sum of active assignments at that landing <= capacity\n",
      "    blocks_by_landing = defaultdict(list)\n",
      "    for b in sc.blocks:\n",
      "        blocks_by_landing[b.landing_id].append(b.id)\n",
      "    def landing_cap_rule(mdl, landing, day):\n",
      "        return sum(mdl.x[mach, blk, day] for mach in m.M for blk in blocks_by_landing[landing]) <= landing_capacity[landing]\n",
      "    m.landing_cap = pyo.Constraint(list(blocks_by_landing.keys()), m.D, rule=landing_cap_rule)\n",
      "\n",
      "    return m\n",
      "\n"
     ]
    }
   ],
   "source": [
    "import inspect\n",
    "import fhops.model.pyomo_builder as pbuilder\n",
    "print(\"pyomo_builder file:\", pbuilder.__file__)\n",
    "src = inspect.getsource(pbuilder.build_model)\n",
    "print(src)\n"
   ]
  },
  {
   "cell_type": "markdown",
   "metadata": {},
   "source": [
    "### Optional Hotfix: Window mapping bug\n",
    "If you see `windows = {b.id: sc.window_for(b.id) for b in sc.block_ids()}`, patch it:\n",
    "`windows = {b_id: sc.window_for(b_id) for b_id in sc.block_ids()}`\n",
    "Set `APPLY_FIX = True` to patch automatically."
   ]
  },
  {
   "cell_type": "code",
   "execution_count": 4,
   "metadata": {},
   "outputs": [
    {
     "name": "stdout",
     "output_type": "stream",
     "text": [
      "No buggy line found.\n"
     ]
    }
   ],
   "source": [
    "from pathlib import Path\n",
    "import importlib, fhops.model.pyomo_builder as pbuilder_mod\n",
    "\n",
    "APPLY_FIX = True  # <- set True and re-run to patch\n",
    "\n",
    "file_path = Path(pbuilder_mod.__file__)\n",
    "text = file_path.read_text(encoding=\"utf-8\")\n",
    "buggy = \"windows = {b.id: sc.window_for(b.id) for b in sc.block_ids()}\"\n",
    "fixed = \"windows = {b_id: sc.window_for(b_id) for b_id in sc.block_ids()}\"\n",
    "if buggy in text:\n",
    "    print(\"Buggy line detected.\")\n",
    "    if APPLY_FIX:\n",
    "        file_path.write_text(text.replace(buggy, fixed), encoding=\"utf-8\")\n",
    "        importlib.reload(pbuilder_mod)\n",
    "        print(\"Patched and reloaded.\")\n",
    "    else:\n",
    "        print(\"Set APPLY_FIX=True to patch automatically.\")\n",
    "else:\n",
    "    print(\"No buggy line found.\")\n"
   ]
  },
  {
   "cell_type": "markdown",
   "metadata": {},
   "source": [
    "## 3) Build the Pyomo model"
   ]
  },
  {
   "cell_type": "code",
   "execution_count": 5,
   "metadata": {},
   "outputs": [
    {
     "name": "stdout",
     "output_type": "stream",
     "text": [
      "Model built.\n",
      "|M|=2, |B|=3, |D|=14\n",
      "Variables: 168 Constraints: 143\n"
     ]
    }
   ],
   "source": [
    "from fhops.model.pyomo_builder import build_model\n",
    "import pyomo.environ as pyo\n",
    "m = build_model(pb)  # debugger stops here on error\n",
    "print(\"Model built.\")\n",
    "print(f\"|M|={len(m.M)}, |B|={len(m.B)}, |D|={len(m.D)}\")\n",
    "n_vars = sum(1 for _ in m.component_data_objects(pyo.Var))\n",
    "n_cons = sum(1 for _ in m.component_data_objects(pyo.Constraint))\n",
    "print(\"Variables:\", n_vars, \"Constraints:\", n_cons)\n"
   ]
  },
  {
   "cell_type": "markdown",
   "metadata": {},
   "source": [
    "## 4) Solve with HiGHS (exact)"
   ]
  },
  {
   "cell_type": "code",
   "execution_count": 6,
   "metadata": {},
   "outputs": [
    {
     "name": "stdout",
     "output_type": "stream",
     "text": [
      "MIP objective: 54.0\n"
     ]
    },
    {
     "data": {
      "text/html": [
       "<div>\n",
       "<style scoped>\n",
       "    .dataframe tbody tr th:only-of-type {\n",
       "        vertical-align: middle;\n",
       "    }\n",
       "\n",
       "    .dataframe tbody tr th {\n",
       "        vertical-align: top;\n",
       "    }\n",
       "\n",
       "    .dataframe thead th {\n",
       "        text-align: right;\n",
       "    }\n",
       "</style>\n",
       "<table border=\"1\" class=\"dataframe\">\n",
       "  <thead>\n",
       "    <tr style=\"text-align: right;\">\n",
       "      <th></th>\n",
       "      <th>machine_id</th>\n",
       "      <th>block_id</th>\n",
       "      <th>day</th>\n",
       "      <th>assigned</th>\n",
       "      <th>production</th>\n",
       "    </tr>\n",
       "  </thead>\n",
       "  <tbody>\n",
       "    <tr>\n",
       "      <th>0</th>\n",
       "      <td>H1</td>\n",
       "      <td>B1</td>\n",
       "      <td>1</td>\n",
       "      <td>1</td>\n",
       "      <td>1.0</td>\n",
       "    </tr>\n",
       "    <tr>\n",
       "      <th>14</th>\n",
       "      <td>H2</td>\n",
       "      <td>B2</td>\n",
       "      <td>1</td>\n",
       "      <td>1</td>\n",
       "      <td>3.0</td>\n",
       "    </tr>\n",
       "    <tr>\n",
       "      <th>5</th>\n",
       "      <td>H1</td>\n",
       "      <td>B2</td>\n",
       "      <td>2</td>\n",
       "      <td>1</td>\n",
       "      <td>1.0</td>\n",
       "    </tr>\n",
       "    <tr>\n",
       "      <th>19</th>\n",
       "      <td>H2</td>\n",
       "      <td>B3</td>\n",
       "      <td>3</td>\n",
       "      <td>1</td>\n",
       "      <td>2.0</td>\n",
       "    </tr>\n",
       "    <tr>\n",
       "      <th>1</th>\n",
       "      <td>H1</td>\n",
       "      <td>B1</td>\n",
       "      <td>4</td>\n",
       "      <td>1</td>\n",
       "      <td>3.5</td>\n",
       "    </tr>\n",
       "  </tbody>\n",
       "</table>\n",
       "</div>"
      ],
      "text/plain": [
       "   machine_id block_id  day  assigned  production\n",
       "0          H1       B1    1         1         1.0\n",
       "14         H2       B2    1         1         3.0\n",
       "5          H1       B2    2         1         1.0\n",
       "19         H2       B3    3         1         2.0\n",
       "1          H1       B1    4         1         3.5"
      ]
     },
     "execution_count": 6,
     "metadata": {},
     "output_type": "execute_result"
    }
   ],
   "source": [
    "from fhops.solve.highs_mip import solve_mip\n",
    "res_mip = solve_mip(pb, time_limit=30)\n",
    "mip_df = res_mip[\"assignments\"]\n",
    "print(\"MIP objective:\", res_mip[\"objective\"])\n",
    "mip_df.head()\n"
   ]
  },
  {
   "cell_type": "markdown",
   "metadata": {},
   "source": [
    "## 5) Solve with Simulated Annealing (heuristic)"
   ]
  },
  {
   "cell_type": "code",
   "execution_count": null,
   "metadata": {},
   "outputs": [],
   "source": [
    "from fhops.solve.heuristics.sa import solve_sa\n",
    "res_sa = solve_sa(pb, iters=4000, seed=1)\n",
    "sa_df = res_sa[\"assignments\"]\n",
    "print(\"SA objective:\", res_sa[\"objective\"])\n",
    "sa_df.head()\n"
   ]
  },
  {
   "cell_type": "markdown",
   "metadata": {},
   "source": [
    "## 6) Evaluate KPIs"
   ]
  },
  {
   "cell_type": "code",
   "execution_count": null,
   "metadata": {},
   "outputs": [],
   "source": [
    "from fhops.eval.kpis import compute_kpis\n",
    "k_mip = compute_kpis(pb, mip_df)\n",
    "k_sa  = compute_kpis(pb, sa_df)\n",
    "print(\"MIP KPIs:\", k_mip)\n",
    "print(\"SA  KPIs:\", k_sa)\n"
   ]
  },
  {
   "cell_type": "markdown",
   "metadata": {},
   "source": [
    "## 7) Save schedules to CSV (optional)"
   ]
  },
  {
   "cell_type": "code",
   "execution_count": null,
   "metadata": {},
   "outputs": [],
   "source": [
    "out_dir = pathlib.Path.cwd() / \"examples\" / \"minitoy\" / \"out\"\n",
    "out_dir.mkdir(parents=True, exist_ok=True)\n",
    "(out_dir / \"mip_solution.csv\").write_text(mip_df.to_csv(index=False))\n",
    "(out_dir / \"sa_solution.csv\").write_text(sa_df.to_csv(index=False))\n",
    "print(\"Saved:\", out_dir)\n"
   ]
  }
 ],
 "metadata": {
  "kernelspec": {
   "display_name": ".venv",
   "language": "python",
   "name": "python3"
  },
  "language_info": {
   "codemirror_mode": {
    "name": "ipython",
    "version": 3
   },
   "file_extension": ".py",
   "mimetype": "text/x-python",
   "name": "python",
   "nbconvert_exporter": "python",
   "pygments_lexer": "ipython3",
   "version": "3.12.3"
  }
 },
 "nbformat": 4,
 "nbformat_minor": 5
}
